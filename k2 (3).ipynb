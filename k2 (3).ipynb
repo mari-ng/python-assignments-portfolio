{
 "cells": [
  {
   "cell_type": "code",
   "execution_count": 3,
   "id": "7d5fa440-3334-4f3c-95f3-cc677b1a6a8a",
   "metadata": {},
   "outputs": [
    {
     "name": "stdout",
     "output_type": "stream",
     "text": [
      "Root of f1(x) = 0.2698741375\n",
      "Root of f2(x) = 1.9999999999\n",
      "Root of f3(x) = 3.1415926536\n",
      "Root of f4(x) = No root found in the given interval.\n"
     ]
    }
   ],
   "source": [
    "def roots(f, a, b):\n",
    "    # Check if f(a) and f(b) have opposite signs\n",
    "    if f(a) * f(b) > 0:\n",
    "        return \"No root found in the given interval.\"\n",
    "\n",
    "    # Iterate until the desired precision is reached\n",
    "    precision = 10 ** -10\n",
    "    while abs(b - a) > precision:\n",
    "        c = (a + b) / 2\n",
    "        if f(c) == 0:\n",
    "            return c\n",
    "        elif f(c) * f(a) < 0:\n",
    "            b = c\n",
    "        else:\n",
    "            a = c\n",
    "    return round(c, 10)  # Round to 10 decimal places\n",
    "\n",
    "# Test cases\n",
    "import math\n",
    "\n",
    "# Function 1: f(x) = e^x + ln(x) on [0, 1]\n",
    "def f1(x):\n",
    "    return math.exp(x) + math.log(x)\n",
    "\n",
    "print(\"Root of f1(x) =\", roots(f1, 0.1, 1))\n",
    "\n",
    "# Function 2: f(x) = arctan(x) - x^2 on [0, 2]\n",
    "def f2(x):\n",
    "    return math.atan(x) - x**2\n",
    "\n",
    "print(\"Root of f2(x) =\", roots(f2, 0, 2))\n",
    "\n",
    "# Function 3: f(x) = sin(x) / ln(x) on [3, 4]\n",
    "def f3(x):\n",
    "    return math.sin(x) / math.log(x)\n",
    "\n",
    "print(\"Root of f3(x) =\", roots(f3, 3, 4))\n",
    "\n",
    "# Function 4: f(x) = ln(cos(x)) on [5, 7]\n",
    "def f4(x):\n",
    "    return math.log(math.cos(x))\n",
    "\n",
    "print(\"Root of f4(x) =\", roots(f4, 5, 7))\n"
   ]
  },
  {
   "cell_type": "code",
   "execution_count": null,
   "id": "f6b4cc07-6846-4b52-93d1-85e76c221c38",
   "metadata": {},
   "outputs": [],
   "source": []
  }
 ],
 "metadata": {
  "kernelspec": {
   "display_name": "Python 3 (ipykernel)",
   "language": "python",
   "name": "python3"
  },
  "language_info": {
   "codemirror_mode": {
    "name": "ipython",
    "version": 3
   },
   "file_extension": ".py",
   "mimetype": "text/x-python",
   "name": "python",
   "nbconvert_exporter": "python",
   "pygments_lexer": "ipython3",
   "version": "3.11.4"
  }
 },
 "nbformat": 4,
 "nbformat_minor": 5
}
