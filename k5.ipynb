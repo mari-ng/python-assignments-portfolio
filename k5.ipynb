{
 "cells": [
  {
   "cell_type": "code",
   "execution_count": null,
   "id": "2ead3991-1df0-4663-a613-c0507ed7ce49",
   "metadata": {},
   "outputs": [
    {
     "name": "stdin",
     "output_type": "stream",
     "text": [
      "Enter the x-coordinate of the seed point:  0.5\n",
      "Enter the y-coordinate of the seed point:  0\n"
     ]
    },
    {
     "name": "stdout",
     "output_type": "stream",
     "text": [
      "Valid seed point entered.\n"
     ]
    },
    {
     "name": "stdin",
     "output_type": "stream",
     "text": [
      "Enter the number of steps:  10000\n"
     ]
    }
   ],
   "source": [
    "import matplotlib.pyplot as plt\n",
    "import random\n",
    "\n",
    "# CHAOS GAME ALGORITHM\n",
    "# 1. Initialize a random seed point within the triangle\n",
    "# 2. Roll the die and move the point half the distance to the chosen vertex.\n",
    "# 3. Repeat and collect the points in a list\n",
    "# (Remember to start plotting points after a dozen rolls)\n",
    "\n",
    "vertices = [(0, 0), (1, 0), (0.5, 0.866)]\n",
    "\n",
    "def isInside(x1, y1, x2, y2, x3, y3, x, y):\n",
    "    def area(x1, y1, x2, y2, x3, y3):\n",
    "        return abs((x1*(y2-y3) + x2*(y3-y1) + x3*(y1-y2)) / 2.0)\n",
    "\n",
    "    A = area(x1, y1, x2, y2, x3, y3)\n",
    "    A1 = area(x, y, x2, y2, x3, y3)\n",
    "    A2 = area(x1, y1, x, y, x3, y3)\n",
    "    A3 = area(x1, y1, x2, y2, x, y)\n",
    "\n",
    "    return A == A1 + A2 + A3\n",
    "\n",
    "while True:\n",
    "    try:\n",
    "        seed_x = float(input(\"Enter the x-coordinate of the seed point: \"))\n",
    "        seed_y = float(input(\"Enter the y-coordinate of the seed point: \"))\n",
    "        if isInside(0, 0, 1, 0, 0.5, 0.866, seed_x, seed_y):\n",
    "            print(\"Valid seed point entered.\")\n",
    "            break\n",
    "        else:\n",
    "            print(\"The point is not inside the triangle. Try again.\")\n",
    "    except ValueError:\n",
    "        print(\"Invalid input. Enter numerical values.\")\n",
    "\n",
    "# Starting point\n",
    "seed = (seed_x, seed_y)\n",
    "points = [seed]\n",
    "\n",
    "while True:\n",
    "    try:\n",
    "        num_steps = int(input(\"Enter the number of steps: \"))\n",
    "        if num_steps > 0:\n",
    "            print(f\"Number of steps set to {num_steps}.\")\n",
    "            break\n",
    "        else:\n",
    "            print(\"Enter a positive integer.\")\n",
    "    except ValueError:\n",
    "        print(\"Invalid input. Enter a positive integer.\")\n",
    "\n",
    "for i in range(num_steps):\n",
    "    next_vertex = vertices[random.randint(0, 2)]\n",
    "    last_point = points[-1]\n",
    "    next_point = ((last_point[0] + next_vertex[0]) / 2), ((last_point[1] + next_vertex[1]) / 2)\n",
    "    points.append(next_point)\n",
    "\n",
    "def plot_solution(points):\n",
    "    plt.scatter([p[0] for p in points], [p[1] for p in points], s=0.1)\n",
    "    plt.show()\n",
    "\n",
    "plot_solution(points)\n"
   ]
  },
  {
   "cell_type": "code",
   "execution_count": null,
   "id": "11e7acdc-3d0e-471b-a590-a2bde2e02183",
   "metadata": {},
   "outputs": [],
   "source": []
  }
 ],
 "metadata": {
  "kernelspec": {
   "display_name": "Python 3 (ipykernel)",
   "language": "python",
   "name": "python3"
  },
  "language_info": {
   "codemirror_mode": {
    "name": "ipython",
    "version": 3
   },
   "file_extension": ".py",
   "mimetype": "text/x-python",
   "name": "python",
   "nbconvert_exporter": "python",
   "pygments_lexer": "ipython3",
   "version": "3.11.4"
  }
 },
 "nbformat": 4,
 "nbformat_minor": 5
}
