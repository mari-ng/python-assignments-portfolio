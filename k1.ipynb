{
 "cells": [
  {
   "cell_type": "code",
   "execution_count": 1,
   "id": "2cdb59dd-30b9-4ad9-9d35-63c80c8c09d1",
   "metadata": {},
   "outputs": [
    {
     "name": "stdout",
     "output_type": "stream",
     "text": [
      "For x = -1:\n",
      "Result: Error!\n",
      "\n",
      "For x = 0:\n",
      "Result: (0, 0, 0.0)\n",
      "\n",
      "For x = 0.25:\n",
      "Result: (0.2449786631268641, 1250, 9.996001599360256e-05)\n",
      "\n",
      "For x = 0.5:\n",
      "Result: (0.46364760900080587, 2500, 9.998000399920016e-05)\n",
      "\n",
      "For x = 0.75:\n",
      "Result: (0.6435011087932844, 3750, 9.998666844420744e-05)\n",
      "\n",
      "For x = 1:\n",
      "Result: (0.7853481633979478, 5000, 9.999000099990002e-05)\n",
      "\n"
     ]
    }
   ],
   "source": [
    "def arctan_approximation(x):\n",
    "    # Check if x is within the interval [0, 1]\n",
    "    if x < 0 or x > 1:\n",
    "        return \"Error!\"\n",
    "    \n",
    "    # Initialize variables\n",
    "    approximation = 0\n",
    "    n = 0\n",
    "    error_bound = x / (2 * n + 1)  # Initial error bound\n",
    "    \n",
    "    # Loop until error is smaller than 0.0001\n",
    "    while error_bound > 0.0001:\n",
    "        approximation += ((-1) ** n) * (x ** (2 * n + 1)) / (2 * n + 1)\n",
    "        n += 1\n",
    "        error_bound = x / (2 * n + 1)\n",
    "    \n",
    "    return approximation, n, error_bound\n",
    "\n",
    "# Test the function with given inputs\n",
    "inputs = [-1, 0, 0.25, 0.5, 0.75, 1]\n",
    "for x in inputs:\n",
    "    result = arctan_approximation(x)\n",
    "    print(f\"For x = {x}:\")\n",
    "    print(\"Result:\", result)\n",
    "    print()\n"
   ]
  },
  {
   "cell_type": "code",
   "execution_count": null,
   "id": "55739221-8fd2-47ec-b305-998c448afdb5",
   "metadata": {},
   "outputs": [],
   "source": []
  }
 ],
 "metadata": {
  "kernelspec": {
   "display_name": "Python 3 (ipykernel)",
   "language": "python",
   "name": "python3"
  },
  "language_info": {
   "codemirror_mode": {
    "name": "ipython",
    "version": 3
   },
   "file_extension": ".py",
   "mimetype": "text/x-python",
   "name": "python",
   "nbconvert_exporter": "python",
   "pygments_lexer": "ipython3",
   "version": "3.11.4"
  }
 },
 "nbformat": 4,
 "nbformat_minor": 5
}
